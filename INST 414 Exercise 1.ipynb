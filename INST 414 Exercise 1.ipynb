{
 "cells": [
  {
   "cell_type": "code",
   "execution_count": 14,
   "id": "b2b97a91-2bf1-4370-9e28-360a600ed6b2",
   "metadata": {},
   "outputs": [
    {
     "name": "stdout",
     "output_type": "stream",
     "text": [
      "{\"imdb_id\": \"tt0035423\", \"title\": \"Kate & Leopold\", \"year\": \"2001\", \"runtime\": \"118\", \"genres\": [\"Comedy\", \"Fantasy\", \"Romance\"], \"actors\": [[\"nm0000212\", \"Meg Ryan\"], [\"nm0413168\", \"Hugh Jackman\"], [\"nm0000630\", \"Liev Schreiber\"], [\"nm0005227\", \"Breckin Meyer\"]], \"rating\": {\"avg\": 6.4, \"votes\": 85923}}\n",
      "\n",
      "\t Meg Ryan\n",
      "\t Hugh Jackman\n",
      "\t Liev Schreiber\n",
      "\t Breckin Meyer\n",
      "{\"imdb_id\": \"tt0064820\", \"title\": \"The Plot Against Harry\", \"year\": \"1989\", \"runtime\": \"81\", \"genres\": [\"Comedy\", \"Crime\"], \"actors\": [[\"nm0697338\", \"Martin Priest\"], [\"nm1300519\", \"Ben Lang\"], [\"nm0940707\", \"Maxine Woods\"], [\"nm0625977\", \"Henry Nemo\"]], \"rating\": {\"avg\": 6.9, \"votes\": 344}}\n",
      "\n",
      "\t Martin Priest\n",
      "\t Ben Lang\n",
      "\t Maxine Woods\n",
      "\t Henry Nemo\n",
      "{\"imdb_id\": \"tt0068494\", \"title\": \"Domo Arigato\", \"year\": \"1990\", \"runtime\": \"91\", \"genres\": [\"Drama\"], \"actors\": [[\"nm0792032\", \"Bonnie Sher\"], [\"nm0496571\", \"Jason Ledger\"], [\"nm2868805\", \"Squeeky the Clown\"], [\"nm2866192\", \"Clown Kumagoro\"]], \"rating\": {\"avg\": 5.1, \"votes\": 19}}\n",
      "\n",
      "\t Bonnie Sher\n",
      "\t Jason Ledger\n",
      "\t Squeeky the Clown\n",
      "\t Clown Kumagoro\n",
      "{\"imdb_id\": \"tt0069049\", \"title\": \"The Other Side of the Wind\", \"year\": \"2018\", \"runtime\": \"122\", \"genres\": [\"Drama\"], \"actors\": [[\"nm0001379\", \"John Huston\"], [\"nm0462648\", \"Oja Kodar\"], [\"nm0000953\", \"Peter Bogdanovich\"], [\"nm0001782\", \"Susan Strasberg\"]], \"rating\": {\"avg\": 6.7, \"votes\": 7545}}\n",
      "\n",
      "\t John Huston\n",
      "\t Oja Kodar\n",
      "\t Peter Bogdanovich\n",
      "\t Susan Strasberg\n",
      "{\"imdb_id\": \"tt0071560\", \"title\": \"Evil Town\", \"year\": \"1987\", \"runtime\": \"82\", \"genres\": [\"Horror\"], \"actors\": [[\"nm0005077\", \"James Keach\"], [\"nm0550626\", \"Michele Marsh\"], [\"nm0177016\", \"Doria Cook-Nelson\"], [\"nm0907480\", \"Robert Walker Jr.\"]], \"rating\": {\"avg\": 3.8, \"votes\": 374}}\n",
      "\n",
      "\t James Keach\n",
      "\t Michele Marsh\n",
      "\t Doria Cook-Nelson\n",
      "\t Robert Walker Jr.\n",
      "{\"imdb_id\": \"tt0075745\", \"title\": \"Beyond Reason\", \"year\": \"1985\", \"runtime\": \"88\", \"genres\": [\"Drama\"], \"actors\": [[\"nm0001699\", \"Telly Savalas\"], [\"nm0425610\", \"Laura Johnson\"], [\"nm0611707\", \"Diana Muldaur\"], [\"nm0988187\", \"Marvin Laird\"]], \"rating\": {\"avg\": 4.8, \"votes\": 78}}\n",
      "\n",
      "\t Telly Savalas\n",
      "\t Laura Johnson\n",
      "\t Diana Muldaur\n",
      "\t Marvin Laird\n"
     ]
    }
   ],
   "source": [
    "import json\n",
    "counter = 0\n",
    "\n",
    "with open(\"imdb_movies_1985to2022.json\", \"r\") as in_file:\n",
    "    for line in in_file:\n",
    "        print(line)\n",
    "        this_movie= json.loads(line)\n",
    "        actors=this_movie[\"actors\"]\n",
    "        for actor in actors:\n",
    "            actor_name=actor[1]\n",
    "            print(\"\\t\", actor_name)\n",
    "                      \n",
    "        counter += 1\n",
    "    \n",
    "        if counter > 5: \n",
    "            break\n"
   ]
  },
  {
   "cell_type": "code",
   "execution_count": 28,
   "id": "20775d47-f589-4c13-bc39-52aa6623e3ec",
   "metadata": {},
   "outputs": [
    {
     "name": "stdout",
     "output_type": "stream",
     "text": [
      "{'imdb_id': 'tt0035423', 'title': 'Kate & Leopold', 'year': '2001', 'runtime': '118', 'genres': ['Comedy', 'Fantasy', 'Romance'], 'actors': [['nm0000212', 'Meg Ryan'], ['nm0413168', 'Hugh Jackman'], ['nm0000630', 'Liev Schreiber'], ['nm0005227', 'Breckin Meyer']], 'rating': {'avg': 6.4, 'votes': 85923}}\n"
     ]
    }
   ],
   "source": [
    "hugh_jackman_list = []\n",
    "hugh_jackman_list = this_movie\n",
    "print(this_movie)"
   ]
  },
  {
   "cell_type": "code",
   "execution_count": null,
   "id": "6cb4a559-4aa7-4036-8155-adabfa4d25ae",
   "metadata": {},
   "outputs": [],
   "source": [
    "import json\n",
    "counter = 0\n",
    "\n",
    "with open(\"imdb_movies_1985to2022.json\", \"r\") as in_file:\n",
    "    for line in in_file:\n",
    "        print(line)\n",
    "        this_movie= json.loads(line)\n",
    "        actors=this_movie[\"actors\"]\n",
    "        for actor in actors:\n",
    "            actor_name=actor[1]\n",
    "            print(\"\\t\", actor_name)\n",
    "                      \n",
    "        counter += 1\n",
    "    \n",
    "        if counter > 5: \n",
    "            break"
   ]
  },
  {
   "cell_type": "code",
   "execution_count": null,
   "id": "8b547359-b556-418a-b9be-b3349dd2e1f4",
   "metadata": {},
   "outputs": [],
   "source": [
    "{'imdb_id': 'tt0075745', 'title': 'Beyond Reason', 'year': '1985', 'runtime': '88', 'genres': ['Drama'], 'actors': [['nm0001699', 'Telly Savalas'], ['nm0425610', 'Laura Johnson'], ['nm0611707', 'Diana Muldaur'], ['nm0988187', 'Marvin Laird']], 'rating': {'avg': 4.8, 'votes': 78}}\n",
    "            "
   ]
  },
  {
   "cell_type": "code",
   "execution_count": 36,
   "id": "36c6818f-d1de-44d7-9975-6b33b85ae929",
   "metadata": {},
   "outputs": [
    {
     "name": "stdout",
     "output_type": "stream",
     "text": [
      "{\"imdb_id\": \"tt0035423\", \"title\": \"Kate & Leopold\", \"year\": \"2001\", \"runtime\": \"118\", \"genres\": [\"Comedy\", \"Fantasy\", \"Romance\"], \"actors\": [[\"nm0000212\", \"Meg Ryan\"], [\"nm0413168\", \"Hugh Jackman\"], [\"nm0000630\", \"Liev Schreiber\"], [\"nm0005227\", \"Breckin Meyer\"]], \"rating\": {\"avg\": 6.4, \"votes\": 85923}}\n",
      "\n",
      "\t {'avg': 6.4, 'votes': 85923}\n",
      "\t {'avg': 6.4, 'votes': 85923}\n",
      "\t Meg Ryan\n",
      "\t Hugh Jackman\n",
      "\t Liev Schreiber\n",
      "\t Breckin Meyer\n",
      "{\"imdb_id\": \"tt0064820\", \"title\": \"The Plot Against Harry\", \"year\": \"1989\", \"runtime\": \"81\", \"genres\": [\"Comedy\", \"Crime\"], \"actors\": [[\"nm0697338\", \"Martin Priest\"], [\"nm1300519\", \"Ben Lang\"], [\"nm0940707\", \"Maxine Woods\"], [\"nm0625977\", \"Henry Nemo\"]], \"rating\": {\"avg\": 6.9, \"votes\": 344}}\n",
      "\n",
      "\t {'avg': 6.9, 'votes': 344}\n",
      "\t {'avg': 6.9, 'votes': 344}\n",
      "\t Martin Priest\n",
      "\t Ben Lang\n",
      "\t Maxine Woods\n",
      "\t Henry Nemo\n",
      "{\"imdb_id\": \"tt0068494\", \"title\": \"Domo Arigato\", \"year\": \"1990\", \"runtime\": \"91\", \"genres\": [\"Drama\"], \"actors\": [[\"nm0792032\", \"Bonnie Sher\"], [\"nm0496571\", \"Jason Ledger\"], [\"nm2868805\", \"Squeeky the Clown\"], [\"nm2866192\", \"Clown Kumagoro\"]], \"rating\": {\"avg\": 5.1, \"votes\": 19}}\n",
      "\n",
      "\t {'avg': 5.1, 'votes': 19}\n",
      "\t {'avg': 5.1, 'votes': 19}\n",
      "\t Bonnie Sher\n",
      "\t Jason Ledger\n",
      "\t Squeeky the Clown\n",
      "\t Clown Kumagoro\n",
      "{\"imdb_id\": \"tt0069049\", \"title\": \"The Other Side of the Wind\", \"year\": \"2018\", \"runtime\": \"122\", \"genres\": [\"Drama\"], \"actors\": [[\"nm0001379\", \"John Huston\"], [\"nm0462648\", \"Oja Kodar\"], [\"nm0000953\", \"Peter Bogdanovich\"], [\"nm0001782\", \"Susan Strasberg\"]], \"rating\": {\"avg\": 6.7, \"votes\": 7545}}\n",
      "\n",
      "\t {'avg': 6.7, 'votes': 7545}\n",
      "\t {'avg': 6.7, 'votes': 7545}\n",
      "\t John Huston\n",
      "\t Oja Kodar\n",
      "\t Peter Bogdanovich\n",
      "\t Susan Strasberg\n",
      "{\"imdb_id\": \"tt0071560\", \"title\": \"Evil Town\", \"year\": \"1987\", \"runtime\": \"82\", \"genres\": [\"Horror\"], \"actors\": [[\"nm0005077\", \"James Keach\"], [\"nm0550626\", \"Michele Marsh\"], [\"nm0177016\", \"Doria Cook-Nelson\"], [\"nm0907480\", \"Robert Walker Jr.\"]], \"rating\": {\"avg\": 3.8, \"votes\": 374}}\n",
      "\n",
      "\t {'avg': 3.8, 'votes': 374}\n",
      "\t {'avg': 3.8, 'votes': 374}\n",
      "\t James Keach\n",
      "\t Michele Marsh\n",
      "\t Doria Cook-Nelson\n",
      "\t Robert Walker Jr.\n",
      "{\"imdb_id\": \"tt0075745\", \"title\": \"Beyond Reason\", \"year\": \"1985\", \"runtime\": \"88\", \"genres\": [\"Drama\"], \"actors\": [[\"nm0001699\", \"Telly Savalas\"], [\"nm0425610\", \"Laura Johnson\"], [\"nm0611707\", \"Diana Muldaur\"], [\"nm0988187\", \"Marvin Laird\"]], \"rating\": {\"avg\": 4.8, \"votes\": 78}}\n",
      "\n",
      "\t {'avg': 4.8, 'votes': 78}\n",
      "\t {'avg': 4.8, 'votes': 78}\n",
      "\t Telly Savalas\n",
      "\t Laura Johnson\n",
      "\t Diana Muldaur\n",
      "\t Marvin Laird\n"
     ]
    }
   ],
   "source": [
    "counter = 0\n",
    "with open(\"imdb_movies_1985to2022.json\", \"r\") as in_file: \n",
    "    for line2 in in_file:\n",
    "        print(line2)\n",
    "        this_movie= json.loads(line2)\n",
    "        ratings=this_movie[\"rating\"]\n",
    "        for rating in ratings:\n",
    "            rating_val= ratings\n",
    "            print(\"\\t\", rating_val)\n",
    "        actors=this_movie[\"actors\"]\n",
    "        for actor in actors:\n",
    "            actor_name=actor[1]\n",
    "            print(\"\\t\", actor_name)\n",
    "            \n",
    "        counter += 1\n",
    "    \n",
    "        if counter > 5: \n",
    "            break"
   ]
  },
  {
   "cell_type": "code",
   "execution_count": 26,
   "id": "80972b73-ec8a-47d5-a235-c8cb9e3765ee",
   "metadata": {},
   "outputs": [
    {
     "ename": "JSONDecodeError",
     "evalue": "Extra data: line 2 column 1 (char 305)",
     "output_type": "error",
     "traceback": [
      "\u001b[1;31m---------------------------------------------------------------------------\u001b[0m",
      "\u001b[1;31mJSONDecodeError\u001b[0m                           Traceback (most recent call last)",
      "Input \u001b[1;32mIn [26]\u001b[0m, in \u001b[0;36m<cell line: 3>\u001b[1;34m()\u001b[0m\n\u001b[0;32m      1\u001b[0m f \u001b[38;5;241m=\u001b[39m \u001b[38;5;28mopen\u001b[39m(\u001b[38;5;124m\"\u001b[39m\u001b[38;5;124mimdb_movies_1985to2022.json\u001b[39m\u001b[38;5;124m\"\u001b[39m)\n\u001b[1;32m----> 3\u001b[0m data \u001b[38;5;241m=\u001b[39m \u001b[43mjson\u001b[49m\u001b[38;5;241;43m.\u001b[39;49m\u001b[43mload\u001b[49m\u001b[43m(\u001b[49m\u001b[43mf\u001b[49m\u001b[43m)\u001b[49m\n",
      "File \u001b[1;32m~\\anaconda3\\lib\\json\\__init__.py:293\u001b[0m, in \u001b[0;36mload\u001b[1;34m(fp, cls, object_hook, parse_float, parse_int, parse_constant, object_pairs_hook, **kw)\u001b[0m\n\u001b[0;32m    274\u001b[0m \u001b[38;5;28;01mdef\u001b[39;00m \u001b[38;5;21mload\u001b[39m(fp, \u001b[38;5;241m*\u001b[39m, \u001b[38;5;28mcls\u001b[39m\u001b[38;5;241m=\u001b[39m\u001b[38;5;28;01mNone\u001b[39;00m, object_hook\u001b[38;5;241m=\u001b[39m\u001b[38;5;28;01mNone\u001b[39;00m, parse_float\u001b[38;5;241m=\u001b[39m\u001b[38;5;28;01mNone\u001b[39;00m,\n\u001b[0;32m    275\u001b[0m         parse_int\u001b[38;5;241m=\u001b[39m\u001b[38;5;28;01mNone\u001b[39;00m, parse_constant\u001b[38;5;241m=\u001b[39m\u001b[38;5;28;01mNone\u001b[39;00m, object_pairs_hook\u001b[38;5;241m=\u001b[39m\u001b[38;5;28;01mNone\u001b[39;00m, \u001b[38;5;241m*\u001b[39m\u001b[38;5;241m*\u001b[39mkw):\n\u001b[0;32m    276\u001b[0m     \u001b[38;5;124;03m\"\"\"Deserialize ``fp`` (a ``.read()``-supporting file-like object containing\u001b[39;00m\n\u001b[0;32m    277\u001b[0m \u001b[38;5;124;03m    a JSON document) to a Python object.\u001b[39;00m\n\u001b[0;32m    278\u001b[0m \n\u001b[1;32m   (...)\u001b[0m\n\u001b[0;32m    291\u001b[0m \u001b[38;5;124;03m    kwarg; otherwise ``JSONDecoder`` is used.\u001b[39;00m\n\u001b[0;32m    292\u001b[0m \u001b[38;5;124;03m    \"\"\"\u001b[39;00m\n\u001b[1;32m--> 293\u001b[0m     \u001b[38;5;28;01mreturn\u001b[39;00m loads(fp\u001b[38;5;241m.\u001b[39mread(),\n\u001b[0;32m    294\u001b[0m         \u001b[38;5;28mcls\u001b[39m\u001b[38;5;241m=\u001b[39m\u001b[38;5;28mcls\u001b[39m, object_hook\u001b[38;5;241m=\u001b[39mobject_hook,\n\u001b[0;32m    295\u001b[0m         parse_float\u001b[38;5;241m=\u001b[39mparse_float, parse_int\u001b[38;5;241m=\u001b[39mparse_int,\n\u001b[0;32m    296\u001b[0m         parse_constant\u001b[38;5;241m=\u001b[39mparse_constant, object_pairs_hook\u001b[38;5;241m=\u001b[39mobject_pairs_hook, \u001b[38;5;241m*\u001b[39m\u001b[38;5;241m*\u001b[39mkw)\n",
      "File \u001b[1;32m~\\anaconda3\\lib\\json\\__init__.py:346\u001b[0m, in \u001b[0;36mloads\u001b[1;34m(s, cls, object_hook, parse_float, parse_int, parse_constant, object_pairs_hook, **kw)\u001b[0m\n\u001b[0;32m    341\u001b[0m     s \u001b[38;5;241m=\u001b[39m s\u001b[38;5;241m.\u001b[39mdecode(detect_encoding(s), \u001b[38;5;124m'\u001b[39m\u001b[38;5;124msurrogatepass\u001b[39m\u001b[38;5;124m'\u001b[39m)\n\u001b[0;32m    343\u001b[0m \u001b[38;5;28;01mif\u001b[39;00m (\u001b[38;5;28mcls\u001b[39m \u001b[38;5;129;01mis\u001b[39;00m \u001b[38;5;28;01mNone\u001b[39;00m \u001b[38;5;129;01mand\u001b[39;00m object_hook \u001b[38;5;129;01mis\u001b[39;00m \u001b[38;5;28;01mNone\u001b[39;00m \u001b[38;5;129;01mand\u001b[39;00m\n\u001b[0;32m    344\u001b[0m         parse_int \u001b[38;5;129;01mis\u001b[39;00m \u001b[38;5;28;01mNone\u001b[39;00m \u001b[38;5;129;01mand\u001b[39;00m parse_float \u001b[38;5;129;01mis\u001b[39;00m \u001b[38;5;28;01mNone\u001b[39;00m \u001b[38;5;129;01mand\u001b[39;00m\n\u001b[0;32m    345\u001b[0m         parse_constant \u001b[38;5;129;01mis\u001b[39;00m \u001b[38;5;28;01mNone\u001b[39;00m \u001b[38;5;129;01mand\u001b[39;00m object_pairs_hook \u001b[38;5;129;01mis\u001b[39;00m \u001b[38;5;28;01mNone\u001b[39;00m \u001b[38;5;129;01mand\u001b[39;00m \u001b[38;5;129;01mnot\u001b[39;00m kw):\n\u001b[1;32m--> 346\u001b[0m     \u001b[38;5;28;01mreturn\u001b[39;00m \u001b[43m_default_decoder\u001b[49m\u001b[38;5;241;43m.\u001b[39;49m\u001b[43mdecode\u001b[49m\u001b[43m(\u001b[49m\u001b[43ms\u001b[49m\u001b[43m)\u001b[49m\n\u001b[0;32m    347\u001b[0m \u001b[38;5;28;01mif\u001b[39;00m \u001b[38;5;28mcls\u001b[39m \u001b[38;5;129;01mis\u001b[39;00m \u001b[38;5;28;01mNone\u001b[39;00m:\n\u001b[0;32m    348\u001b[0m     \u001b[38;5;28mcls\u001b[39m \u001b[38;5;241m=\u001b[39m JSONDecoder\n",
      "File \u001b[1;32m~\\anaconda3\\lib\\json\\decoder.py:340\u001b[0m, in \u001b[0;36mJSONDecoder.decode\u001b[1;34m(self, s, _w)\u001b[0m\n\u001b[0;32m    338\u001b[0m end \u001b[38;5;241m=\u001b[39m _w(s, end)\u001b[38;5;241m.\u001b[39mend()\n\u001b[0;32m    339\u001b[0m \u001b[38;5;28;01mif\u001b[39;00m end \u001b[38;5;241m!=\u001b[39m \u001b[38;5;28mlen\u001b[39m(s):\n\u001b[1;32m--> 340\u001b[0m     \u001b[38;5;28;01mraise\u001b[39;00m JSONDecodeError(\u001b[38;5;124m\"\u001b[39m\u001b[38;5;124mExtra data\u001b[39m\u001b[38;5;124m\"\u001b[39m, s, end)\n\u001b[0;32m    341\u001b[0m \u001b[38;5;28;01mreturn\u001b[39;00m obj\n",
      "\u001b[1;31mJSONDecodeError\u001b[0m: Extra data: line 2 column 1 (char 305)"
     ]
    }
   ],
   "source": [
    "  \n",
    "\n",
    "f = open(\"imdb_movies_1985to2022.json\")\n",
    "\n",
    "data = json.load(f)\n",
    "  \n",
    "\n",
    "\n"
   ]
  },
  {
   "cell_type": "code",
   "execution_count": 34,
   "id": "9f59485d-bcb3-473d-9c94-09c5c8521040",
   "metadata": {},
   "outputs": [
    {
     "name": "stdout",
     "output_type": "stream",
     "text": [
      "Empty DataFrame\n",
      "Columns: []\n",
      "Index: [0, 1, 2, 3, 4, 5, 6, 7, 8, 9, 10, 11, 12, 13, 14, 15, 16, 17, 18, 19, 20, 21, 22, 23, 24, 25, 26, 27, 28, 29, 30, 31, 32, 33, 34, 35, 36, 37, 38, 39, 40, 41, 42, 43, 44, 45, 46, 47, 48, 49, 50, 51, 52, 53, 54, 55, 56, 57, 58, 59, 60, 61, 62, 63, 64, 65, 66, 67, 68, 69, 70, 71, 72, 73, 74, 75, 76, 77, 78, 79, 80, 81, 82, 83, 84, 85, 86, 87, 88, 89, 90, 91, 92, 93, 94, 95, 96, 97, 98, 99, ...]\n",
      "\n",
      "[118862 rows x 0 columns]\n"
     ]
    }
   ],
   "source": [
    "import pandas\n",
    "with open(\"imdb_movies_1985to2022.json\", \"r\") as in_file:\n",
    "    movies_df = pandas.json_normalize(in_file)\n",
    "    print(movies_df)\n"
   ]
  },
  {
   "cell_type": "code",
   "execution_count": null,
   "id": "1bc28144-70de-4f33-bf2c-d0246e621936",
   "metadata": {},
   "outputs": [],
   "source": []
  }
 ],
 "metadata": {
  "kernelspec": {
   "display_name": "Python 3 (ipykernel)",
   "language": "python",
   "name": "python3"
  },
  "language_info": {
   "codemirror_mode": {
    "name": "ipython",
    "version": 3
   },
   "file_extension": ".py",
   "mimetype": "text/x-python",
   "name": "python",
   "nbconvert_exporter": "python",
   "pygments_lexer": "ipython3",
   "version": "3.9.12"
  }
 },
 "nbformat": 4,
 "nbformat_minor": 5
}
